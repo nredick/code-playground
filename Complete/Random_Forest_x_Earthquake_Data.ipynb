{
  "nbformat": 4,
  "nbformat_minor": 0,
  "metadata": {
    "colab": {
      "name": "Random Forest x Earthquake Data.ipynb",
      "provenance": [],
      "collapsed_sections": []
    },
    "kernelspec": {
      "name": "python3",
      "display_name": "Python 3"
    }
  },
  "cells": [
    {
      "cell_type": "markdown",
      "metadata": {
        "id": "VEWAk3gMwGTC"
      },
      "source": [
        "# **Using the Random Forest Algorithm to Predict Earthquake Data**"
      ]
    },
    {
      "cell_type": "markdown",
      "metadata": {
        "id": "iO-auDKvS0pJ"
      },
      "source": [
        "## Imports "
      ]
    },
    {
      "cell_type": "markdown",
      "metadata": {
        "id": "Bf__CSWGy48a"
      },
      "source": [
        "Upload a kaggle.json authentification file to be able to load the dataset from kaggle. "
      ]
    },
    {
      "cell_type": "code",
      "metadata": {
        "id": "HWnqoAZXy4Ag"
      },
      "source": [
        "# make a directory to hold the authentification file \n",
        "!mkdir ~/.kaggle\n",
        "\n",
        "# move the auth file to the dir\n",
        "!mv kaggle.json ~/.kaggle/\n",
        "\n",
        "# change the auth file permissions so that we can use it \n",
        "!chmod 600 /root/.kaggle/kaggle.json"
      ],
      "execution_count": 1,
      "outputs": []
    },
    {
      "cell_type": "markdown",
      "metadata": {
        "id": "FkKPYcUkRVp-"
      },
      "source": [
        "**Import the dataset**\n",
        "\n",
        "This dataset was posted on Kaggle via the US Geological Survey [here](https://www.kaggle.com/usgs/earthquake-database). \n",
        "\n",
        "> *Context*\n",
        ">\n",
        "> \"The National Earthquake Information Center (NEIC) determines the location and size of all significant earthquakes that occur worldwide and disseminates this information immediately to national and international agencies, scientists, critical facilities, and the general public. The NEIC compiles and provides to scientists and to the public an extensive seismic database that serves as a foundation for scientific research through the operation of modern digital national and global seismograph networks and cooperative international agreements. The NEIC is the national data center and archive for earthquake information.\"\n",
        "\n",
        "> *Content*\n",
        "> \n",
        "> \"This dataset includes a record of the date, time, location, depth, magnitude, and source of every earthquake with a reported magnitude 5.5 or higher since 1965.\""
      ]
    },
    {
      "cell_type": "code",
      "metadata": {
        "id": "gZBBFmHTQ_E4",
        "colab": {
          "base_uri": "https://localhost:8080/"
        },
        "collapsed": true,
        "outputId": "459ce8c4-8a56-4afc-e9dc-b968e5183a97"
      },
      "source": [
        "!kaggle datasets download -d usgs/earthquake-database --force\n",
        "!unzip earthquake-database.zip"
      ],
      "execution_count": 2,
      "outputs": [
        {
          "output_type": "stream",
          "text": [
            "Downloading earthquake-database.zip to /content\n",
            "\r  0% 0.00/590k [00:00<?, ?B/s]\n",
            "\r100% 590k/590k [00:00<00:00, 77.4MB/s]\n",
            "Archive:  earthquake-database.zip\n",
            "  inflating: database.csv            \n"
          ],
          "name": "stdout"
        }
      ]
    },
    {
      "cell_type": "code",
      "metadata": {
        "id": "HJSMSospoSHB"
      },
      "source": [
        "import pandas as pd\n",
        "import numpy as np\n",
        "import matplotlib.pyplot as plt\n",
        "#import seaborn as sns\n",
        "import re \n",
        "import datetime\n",
        "import time\n",
        "\n",
        "from sklearn import preprocessing, metrics\n",
        "from sklearn.model_selection import train_test_split\n",
        "from sklearn.ensemble import RandomForestRegressor"
      ],
      "execution_count": 3,
      "outputs": []
    },
    {
      "cell_type": "code",
      "metadata": {
        "id": "AR1AmXgX20r_"
      },
      "source": [
        "# set path variables to the data \n",
        "dataset_path = '/content/database.csv'"
      ],
      "execution_count": 4,
      "outputs": []
    },
    {
      "cell_type": "markdown",
      "metadata": {
        "id": "m9rvndkL8Bo8"
      },
      "source": [
        "## Understanding & preprocessing the data"
      ]
    },
    {
      "cell_type": "code",
      "metadata": {
        "id": "Bf6WGm9k9GR4"
      },
      "source": [
        "# read data into a pandas dataframe to make it easier to work with \n",
        "data = pd.read_csv(dataset_path)"
      ],
      "execution_count": 5,
      "outputs": []
    },
    {
      "cell_type": "code",
      "metadata": {
        "colab": {
          "base_uri": "https://localhost:8080/",
          "height": 473
        },
        "id": "ZzFERf6A8FAA",
        "outputId": "0b0a1017-efad-4874-cf9b-51e8bb72708d"
      },
      "source": [
        "# get a first look at the data \n",
        "display(data)"
      ],
      "execution_count": 6,
      "outputs": [
        {
          "output_type": "display_data",
          "data": {
            "text/html": [
              "<div>\n",
              "<style scoped>\n",
              "    .dataframe tbody tr th:only-of-type {\n",
              "        vertical-align: middle;\n",
              "    }\n",
              "\n",
              "    .dataframe tbody tr th {\n",
              "        vertical-align: top;\n",
              "    }\n",
              "\n",
              "    .dataframe thead th {\n",
              "        text-align: right;\n",
              "    }\n",
              "</style>\n",
              "<table border=\"1\" class=\"dataframe\">\n",
              "  <thead>\n",
              "    <tr style=\"text-align: right;\">\n",
              "      <th></th>\n",
              "      <th>Date</th>\n",
              "      <th>Time</th>\n",
              "      <th>Latitude</th>\n",
              "      <th>Longitude</th>\n",
              "      <th>Type</th>\n",
              "      <th>Depth</th>\n",
              "      <th>Depth Error</th>\n",
              "      <th>Depth Seismic Stations</th>\n",
              "      <th>Magnitude</th>\n",
              "      <th>Magnitude Type</th>\n",
              "      <th>Magnitude Error</th>\n",
              "      <th>Magnitude Seismic Stations</th>\n",
              "      <th>Azimuthal Gap</th>\n",
              "      <th>Horizontal Distance</th>\n",
              "      <th>Horizontal Error</th>\n",
              "      <th>Root Mean Square</th>\n",
              "      <th>ID</th>\n",
              "      <th>Source</th>\n",
              "      <th>Location Source</th>\n",
              "      <th>Magnitude Source</th>\n",
              "      <th>Status</th>\n",
              "    </tr>\n",
              "  </thead>\n",
              "  <tbody>\n",
              "    <tr>\n",
              "      <th>0</th>\n",
              "      <td>01/02/1965</td>\n",
              "      <td>13:44:18</td>\n",
              "      <td>19.2460</td>\n",
              "      <td>145.6160</td>\n",
              "      <td>Earthquake</td>\n",
              "      <td>131.60</td>\n",
              "      <td>NaN</td>\n",
              "      <td>NaN</td>\n",
              "      <td>6.0</td>\n",
              "      <td>MW</td>\n",
              "      <td>NaN</td>\n",
              "      <td>NaN</td>\n",
              "      <td>NaN</td>\n",
              "      <td>NaN</td>\n",
              "      <td>NaN</td>\n",
              "      <td>NaN</td>\n",
              "      <td>ISCGEM860706</td>\n",
              "      <td>ISCGEM</td>\n",
              "      <td>ISCGEM</td>\n",
              "      <td>ISCGEM</td>\n",
              "      <td>Automatic</td>\n",
              "    </tr>\n",
              "    <tr>\n",
              "      <th>1</th>\n",
              "      <td>01/04/1965</td>\n",
              "      <td>11:29:49</td>\n",
              "      <td>1.8630</td>\n",
              "      <td>127.3520</td>\n",
              "      <td>Earthquake</td>\n",
              "      <td>80.00</td>\n",
              "      <td>NaN</td>\n",
              "      <td>NaN</td>\n",
              "      <td>5.8</td>\n",
              "      <td>MW</td>\n",
              "      <td>NaN</td>\n",
              "      <td>NaN</td>\n",
              "      <td>NaN</td>\n",
              "      <td>NaN</td>\n",
              "      <td>NaN</td>\n",
              "      <td>NaN</td>\n",
              "      <td>ISCGEM860737</td>\n",
              "      <td>ISCGEM</td>\n",
              "      <td>ISCGEM</td>\n",
              "      <td>ISCGEM</td>\n",
              "      <td>Automatic</td>\n",
              "    </tr>\n",
              "    <tr>\n",
              "      <th>2</th>\n",
              "      <td>01/05/1965</td>\n",
              "      <td>18:05:58</td>\n",
              "      <td>-20.5790</td>\n",
              "      <td>-173.9720</td>\n",
              "      <td>Earthquake</td>\n",
              "      <td>20.00</td>\n",
              "      <td>NaN</td>\n",
              "      <td>NaN</td>\n",
              "      <td>6.2</td>\n",
              "      <td>MW</td>\n",
              "      <td>NaN</td>\n",
              "      <td>NaN</td>\n",
              "      <td>NaN</td>\n",
              "      <td>NaN</td>\n",
              "      <td>NaN</td>\n",
              "      <td>NaN</td>\n",
              "      <td>ISCGEM860762</td>\n",
              "      <td>ISCGEM</td>\n",
              "      <td>ISCGEM</td>\n",
              "      <td>ISCGEM</td>\n",
              "      <td>Automatic</td>\n",
              "    </tr>\n",
              "    <tr>\n",
              "      <th>3</th>\n",
              "      <td>01/08/1965</td>\n",
              "      <td>18:49:43</td>\n",
              "      <td>-59.0760</td>\n",
              "      <td>-23.5570</td>\n",
              "      <td>Earthquake</td>\n",
              "      <td>15.00</td>\n",
              "      <td>NaN</td>\n",
              "      <td>NaN</td>\n",
              "      <td>5.8</td>\n",
              "      <td>MW</td>\n",
              "      <td>NaN</td>\n",
              "      <td>NaN</td>\n",
              "      <td>NaN</td>\n",
              "      <td>NaN</td>\n",
              "      <td>NaN</td>\n",
              "      <td>NaN</td>\n",
              "      <td>ISCGEM860856</td>\n",
              "      <td>ISCGEM</td>\n",
              "      <td>ISCGEM</td>\n",
              "      <td>ISCGEM</td>\n",
              "      <td>Automatic</td>\n",
              "    </tr>\n",
              "    <tr>\n",
              "      <th>4</th>\n",
              "      <td>01/09/1965</td>\n",
              "      <td>13:32:50</td>\n",
              "      <td>11.9380</td>\n",
              "      <td>126.4270</td>\n",
              "      <td>Earthquake</td>\n",
              "      <td>15.00</td>\n",
              "      <td>NaN</td>\n",
              "      <td>NaN</td>\n",
              "      <td>5.8</td>\n",
              "      <td>MW</td>\n",
              "      <td>NaN</td>\n",
              "      <td>NaN</td>\n",
              "      <td>NaN</td>\n",
              "      <td>NaN</td>\n",
              "      <td>NaN</td>\n",
              "      <td>NaN</td>\n",
              "      <td>ISCGEM860890</td>\n",
              "      <td>ISCGEM</td>\n",
              "      <td>ISCGEM</td>\n",
              "      <td>ISCGEM</td>\n",
              "      <td>Automatic</td>\n",
              "    </tr>\n",
              "    <tr>\n",
              "      <th>...</th>\n",
              "      <td>...</td>\n",
              "      <td>...</td>\n",
              "      <td>...</td>\n",
              "      <td>...</td>\n",
              "      <td>...</td>\n",
              "      <td>...</td>\n",
              "      <td>...</td>\n",
              "      <td>...</td>\n",
              "      <td>...</td>\n",
              "      <td>...</td>\n",
              "      <td>...</td>\n",
              "      <td>...</td>\n",
              "      <td>...</td>\n",
              "      <td>...</td>\n",
              "      <td>...</td>\n",
              "      <td>...</td>\n",
              "      <td>...</td>\n",
              "      <td>...</td>\n",
              "      <td>...</td>\n",
              "      <td>...</td>\n",
              "      <td>...</td>\n",
              "    </tr>\n",
              "    <tr>\n",
              "      <th>23407</th>\n",
              "      <td>12/28/2016</td>\n",
              "      <td>08:22:12</td>\n",
              "      <td>38.3917</td>\n",
              "      <td>-118.8941</td>\n",
              "      <td>Earthquake</td>\n",
              "      <td>12.30</td>\n",
              "      <td>1.2</td>\n",
              "      <td>40.0</td>\n",
              "      <td>5.6</td>\n",
              "      <td>ML</td>\n",
              "      <td>0.320</td>\n",
              "      <td>18.0</td>\n",
              "      <td>42.47</td>\n",
              "      <td>0.120</td>\n",
              "      <td>NaN</td>\n",
              "      <td>0.1898</td>\n",
              "      <td>NN00570710</td>\n",
              "      <td>NN</td>\n",
              "      <td>NN</td>\n",
              "      <td>NN</td>\n",
              "      <td>Reviewed</td>\n",
              "    </tr>\n",
              "    <tr>\n",
              "      <th>23408</th>\n",
              "      <td>12/28/2016</td>\n",
              "      <td>09:13:47</td>\n",
              "      <td>38.3777</td>\n",
              "      <td>-118.8957</td>\n",
              "      <td>Earthquake</td>\n",
              "      <td>8.80</td>\n",
              "      <td>2.0</td>\n",
              "      <td>33.0</td>\n",
              "      <td>5.5</td>\n",
              "      <td>ML</td>\n",
              "      <td>0.260</td>\n",
              "      <td>18.0</td>\n",
              "      <td>48.58</td>\n",
              "      <td>0.129</td>\n",
              "      <td>NaN</td>\n",
              "      <td>0.2187</td>\n",
              "      <td>NN00570744</td>\n",
              "      <td>NN</td>\n",
              "      <td>NN</td>\n",
              "      <td>NN</td>\n",
              "      <td>Reviewed</td>\n",
              "    </tr>\n",
              "    <tr>\n",
              "      <th>23409</th>\n",
              "      <td>12/28/2016</td>\n",
              "      <td>12:38:51</td>\n",
              "      <td>36.9179</td>\n",
              "      <td>140.4262</td>\n",
              "      <td>Earthquake</td>\n",
              "      <td>10.00</td>\n",
              "      <td>1.8</td>\n",
              "      <td>NaN</td>\n",
              "      <td>5.9</td>\n",
              "      <td>MWW</td>\n",
              "      <td>NaN</td>\n",
              "      <td>NaN</td>\n",
              "      <td>91.00</td>\n",
              "      <td>0.992</td>\n",
              "      <td>4.8</td>\n",
              "      <td>1.5200</td>\n",
              "      <td>US10007NAF</td>\n",
              "      <td>US</td>\n",
              "      <td>US</td>\n",
              "      <td>US</td>\n",
              "      <td>Reviewed</td>\n",
              "    </tr>\n",
              "    <tr>\n",
              "      <th>23410</th>\n",
              "      <td>12/29/2016</td>\n",
              "      <td>22:30:19</td>\n",
              "      <td>-9.0283</td>\n",
              "      <td>118.6639</td>\n",
              "      <td>Earthquake</td>\n",
              "      <td>79.00</td>\n",
              "      <td>1.8</td>\n",
              "      <td>NaN</td>\n",
              "      <td>6.3</td>\n",
              "      <td>MWW</td>\n",
              "      <td>NaN</td>\n",
              "      <td>NaN</td>\n",
              "      <td>26.00</td>\n",
              "      <td>3.553</td>\n",
              "      <td>6.0</td>\n",
              "      <td>1.4300</td>\n",
              "      <td>US10007NL0</td>\n",
              "      <td>US</td>\n",
              "      <td>US</td>\n",
              "      <td>US</td>\n",
              "      <td>Reviewed</td>\n",
              "    </tr>\n",
              "    <tr>\n",
              "      <th>23411</th>\n",
              "      <td>12/30/2016</td>\n",
              "      <td>20:08:28</td>\n",
              "      <td>37.3973</td>\n",
              "      <td>141.4103</td>\n",
              "      <td>Earthquake</td>\n",
              "      <td>11.94</td>\n",
              "      <td>2.2</td>\n",
              "      <td>NaN</td>\n",
              "      <td>5.5</td>\n",
              "      <td>MB</td>\n",
              "      <td>0.029</td>\n",
              "      <td>428.0</td>\n",
              "      <td>97.00</td>\n",
              "      <td>0.681</td>\n",
              "      <td>4.5</td>\n",
              "      <td>0.9100</td>\n",
              "      <td>US10007NTD</td>\n",
              "      <td>US</td>\n",
              "      <td>US</td>\n",
              "      <td>US</td>\n",
              "      <td>Reviewed</td>\n",
              "    </tr>\n",
              "  </tbody>\n",
              "</table>\n",
              "<p>23412 rows × 21 columns</p>\n",
              "</div>"
            ],
            "text/plain": [
              "             Date      Time  ...  Magnitude Source     Status\n",
              "0      01/02/1965  13:44:18  ...            ISCGEM  Automatic\n",
              "1      01/04/1965  11:29:49  ...            ISCGEM  Automatic\n",
              "2      01/05/1965  18:05:58  ...            ISCGEM  Automatic\n",
              "3      01/08/1965  18:49:43  ...            ISCGEM  Automatic\n",
              "4      01/09/1965  13:32:50  ...            ISCGEM  Automatic\n",
              "...           ...       ...  ...               ...        ...\n",
              "23407  12/28/2016  08:22:12  ...                NN   Reviewed\n",
              "23408  12/28/2016  09:13:47  ...                NN   Reviewed\n",
              "23409  12/28/2016  12:38:51  ...                US   Reviewed\n",
              "23410  12/29/2016  22:30:19  ...                US   Reviewed\n",
              "23411  12/30/2016  20:08:28  ...                US   Reviewed\n",
              "\n",
              "[23412 rows x 21 columns]"
            ]
          },
          "metadata": {
            "tags": []
          }
        }
      ]
    },
    {
      "cell_type": "markdown",
      "metadata": {
        "id": "HWlG3NewAzlf"
      },
      "source": [
        "It's easy to see that we have both columns with lots of NaN values and some columns e.g. ID or Status, that will not be helpful in making predictions. \n",
        "\n",
        "So, we should remove these columns. "
      ]
    },
    {
      "cell_type": "code",
      "metadata": {
        "colab": {
          "base_uri": "https://localhost:8080/",
          "height": 419
        },
        "id": "Q6wgcGByBcdM",
        "outputId": "a4570931-3ef4-4827-afc6-b16304d6758e"
      },
      "source": [
        "# remove columns that have more than 50% NaN values \n",
        "data.dropna(thresh=(len(data)*.5), axis=1, inplace=True)\n",
        "display(data)"
      ],
      "execution_count": 7,
      "outputs": [
        {
          "output_type": "display_data",
          "data": {
            "text/html": [
              "<div>\n",
              "<style scoped>\n",
              "    .dataframe tbody tr th:only-of-type {\n",
              "        vertical-align: middle;\n",
              "    }\n",
              "\n",
              "    .dataframe tbody tr th {\n",
              "        vertical-align: top;\n",
              "    }\n",
              "\n",
              "    .dataframe thead th {\n",
              "        text-align: right;\n",
              "    }\n",
              "</style>\n",
              "<table border=\"1\" class=\"dataframe\">\n",
              "  <thead>\n",
              "    <tr style=\"text-align: right;\">\n",
              "      <th></th>\n",
              "      <th>Date</th>\n",
              "      <th>Time</th>\n",
              "      <th>Latitude</th>\n",
              "      <th>Longitude</th>\n",
              "      <th>Type</th>\n",
              "      <th>Depth</th>\n",
              "      <th>Magnitude</th>\n",
              "      <th>Magnitude Type</th>\n",
              "      <th>Root Mean Square</th>\n",
              "      <th>ID</th>\n",
              "      <th>Source</th>\n",
              "      <th>Location Source</th>\n",
              "      <th>Magnitude Source</th>\n",
              "      <th>Status</th>\n",
              "    </tr>\n",
              "  </thead>\n",
              "  <tbody>\n",
              "    <tr>\n",
              "      <th>0</th>\n",
              "      <td>01/02/1965</td>\n",
              "      <td>13:44:18</td>\n",
              "      <td>19.2460</td>\n",
              "      <td>145.6160</td>\n",
              "      <td>Earthquake</td>\n",
              "      <td>131.60</td>\n",
              "      <td>6.0</td>\n",
              "      <td>MW</td>\n",
              "      <td>NaN</td>\n",
              "      <td>ISCGEM860706</td>\n",
              "      <td>ISCGEM</td>\n",
              "      <td>ISCGEM</td>\n",
              "      <td>ISCGEM</td>\n",
              "      <td>Automatic</td>\n",
              "    </tr>\n",
              "    <tr>\n",
              "      <th>1</th>\n",
              "      <td>01/04/1965</td>\n",
              "      <td>11:29:49</td>\n",
              "      <td>1.8630</td>\n",
              "      <td>127.3520</td>\n",
              "      <td>Earthquake</td>\n",
              "      <td>80.00</td>\n",
              "      <td>5.8</td>\n",
              "      <td>MW</td>\n",
              "      <td>NaN</td>\n",
              "      <td>ISCGEM860737</td>\n",
              "      <td>ISCGEM</td>\n",
              "      <td>ISCGEM</td>\n",
              "      <td>ISCGEM</td>\n",
              "      <td>Automatic</td>\n",
              "    </tr>\n",
              "    <tr>\n",
              "      <th>2</th>\n",
              "      <td>01/05/1965</td>\n",
              "      <td>18:05:58</td>\n",
              "      <td>-20.5790</td>\n",
              "      <td>-173.9720</td>\n",
              "      <td>Earthquake</td>\n",
              "      <td>20.00</td>\n",
              "      <td>6.2</td>\n",
              "      <td>MW</td>\n",
              "      <td>NaN</td>\n",
              "      <td>ISCGEM860762</td>\n",
              "      <td>ISCGEM</td>\n",
              "      <td>ISCGEM</td>\n",
              "      <td>ISCGEM</td>\n",
              "      <td>Automatic</td>\n",
              "    </tr>\n",
              "    <tr>\n",
              "      <th>3</th>\n",
              "      <td>01/08/1965</td>\n",
              "      <td>18:49:43</td>\n",
              "      <td>-59.0760</td>\n",
              "      <td>-23.5570</td>\n",
              "      <td>Earthquake</td>\n",
              "      <td>15.00</td>\n",
              "      <td>5.8</td>\n",
              "      <td>MW</td>\n",
              "      <td>NaN</td>\n",
              "      <td>ISCGEM860856</td>\n",
              "      <td>ISCGEM</td>\n",
              "      <td>ISCGEM</td>\n",
              "      <td>ISCGEM</td>\n",
              "      <td>Automatic</td>\n",
              "    </tr>\n",
              "    <tr>\n",
              "      <th>4</th>\n",
              "      <td>01/09/1965</td>\n",
              "      <td>13:32:50</td>\n",
              "      <td>11.9380</td>\n",
              "      <td>126.4270</td>\n",
              "      <td>Earthquake</td>\n",
              "      <td>15.00</td>\n",
              "      <td>5.8</td>\n",
              "      <td>MW</td>\n",
              "      <td>NaN</td>\n",
              "      <td>ISCGEM860890</td>\n",
              "      <td>ISCGEM</td>\n",
              "      <td>ISCGEM</td>\n",
              "      <td>ISCGEM</td>\n",
              "      <td>Automatic</td>\n",
              "    </tr>\n",
              "    <tr>\n",
              "      <th>...</th>\n",
              "      <td>...</td>\n",
              "      <td>...</td>\n",
              "      <td>...</td>\n",
              "      <td>...</td>\n",
              "      <td>...</td>\n",
              "      <td>...</td>\n",
              "      <td>...</td>\n",
              "      <td>...</td>\n",
              "      <td>...</td>\n",
              "      <td>...</td>\n",
              "      <td>...</td>\n",
              "      <td>...</td>\n",
              "      <td>...</td>\n",
              "      <td>...</td>\n",
              "    </tr>\n",
              "    <tr>\n",
              "      <th>23407</th>\n",
              "      <td>12/28/2016</td>\n",
              "      <td>08:22:12</td>\n",
              "      <td>38.3917</td>\n",
              "      <td>-118.8941</td>\n",
              "      <td>Earthquake</td>\n",
              "      <td>12.30</td>\n",
              "      <td>5.6</td>\n",
              "      <td>ML</td>\n",
              "      <td>0.1898</td>\n",
              "      <td>NN00570710</td>\n",
              "      <td>NN</td>\n",
              "      <td>NN</td>\n",
              "      <td>NN</td>\n",
              "      <td>Reviewed</td>\n",
              "    </tr>\n",
              "    <tr>\n",
              "      <th>23408</th>\n",
              "      <td>12/28/2016</td>\n",
              "      <td>09:13:47</td>\n",
              "      <td>38.3777</td>\n",
              "      <td>-118.8957</td>\n",
              "      <td>Earthquake</td>\n",
              "      <td>8.80</td>\n",
              "      <td>5.5</td>\n",
              "      <td>ML</td>\n",
              "      <td>0.2187</td>\n",
              "      <td>NN00570744</td>\n",
              "      <td>NN</td>\n",
              "      <td>NN</td>\n",
              "      <td>NN</td>\n",
              "      <td>Reviewed</td>\n",
              "    </tr>\n",
              "    <tr>\n",
              "      <th>23409</th>\n",
              "      <td>12/28/2016</td>\n",
              "      <td>12:38:51</td>\n",
              "      <td>36.9179</td>\n",
              "      <td>140.4262</td>\n",
              "      <td>Earthquake</td>\n",
              "      <td>10.00</td>\n",
              "      <td>5.9</td>\n",
              "      <td>MWW</td>\n",
              "      <td>1.5200</td>\n",
              "      <td>US10007NAF</td>\n",
              "      <td>US</td>\n",
              "      <td>US</td>\n",
              "      <td>US</td>\n",
              "      <td>Reviewed</td>\n",
              "    </tr>\n",
              "    <tr>\n",
              "      <th>23410</th>\n",
              "      <td>12/29/2016</td>\n",
              "      <td>22:30:19</td>\n",
              "      <td>-9.0283</td>\n",
              "      <td>118.6639</td>\n",
              "      <td>Earthquake</td>\n",
              "      <td>79.00</td>\n",
              "      <td>6.3</td>\n",
              "      <td>MWW</td>\n",
              "      <td>1.4300</td>\n",
              "      <td>US10007NL0</td>\n",
              "      <td>US</td>\n",
              "      <td>US</td>\n",
              "      <td>US</td>\n",
              "      <td>Reviewed</td>\n",
              "    </tr>\n",
              "    <tr>\n",
              "      <th>23411</th>\n",
              "      <td>12/30/2016</td>\n",
              "      <td>20:08:28</td>\n",
              "      <td>37.3973</td>\n",
              "      <td>141.4103</td>\n",
              "      <td>Earthquake</td>\n",
              "      <td>11.94</td>\n",
              "      <td>5.5</td>\n",
              "      <td>MB</td>\n",
              "      <td>0.9100</td>\n",
              "      <td>US10007NTD</td>\n",
              "      <td>US</td>\n",
              "      <td>US</td>\n",
              "      <td>US</td>\n",
              "      <td>Reviewed</td>\n",
              "    </tr>\n",
              "  </tbody>\n",
              "</table>\n",
              "<p>23412 rows × 14 columns</p>\n",
              "</div>"
            ],
            "text/plain": [
              "             Date      Time  ...  Magnitude Source     Status\n",
              "0      01/02/1965  13:44:18  ...            ISCGEM  Automatic\n",
              "1      01/04/1965  11:29:49  ...            ISCGEM  Automatic\n",
              "2      01/05/1965  18:05:58  ...            ISCGEM  Automatic\n",
              "3      01/08/1965  18:49:43  ...            ISCGEM  Automatic\n",
              "4      01/09/1965  13:32:50  ...            ISCGEM  Automatic\n",
              "...           ...       ...  ...               ...        ...\n",
              "23407  12/28/2016  08:22:12  ...                NN   Reviewed\n",
              "23408  12/28/2016  09:13:47  ...                NN   Reviewed\n",
              "23409  12/28/2016  12:38:51  ...                US   Reviewed\n",
              "23410  12/29/2016  22:30:19  ...                US   Reviewed\n",
              "23411  12/30/2016  20:08:28  ...                US   Reviewed\n",
              "\n",
              "[23412 rows x 14 columns]"
            ]
          },
          "metadata": {
            "tags": []
          }
        }
      ]
    },
    {
      "cell_type": "markdown",
      "metadata": {
        "id": "E69ozNUKExT7"
      },
      "source": [
        "You can see that this has already removed 7 columns. "
      ]
    },
    {
      "cell_type": "code",
      "metadata": {
        "colab": {
          "base_uri": "https://localhost:8080/",
          "height": 419
        },
        "id": "UBkno4nME1TV",
        "outputId": "abd2b30d-56b2-4538-85a8-5e2de2e797ee"
      },
      "source": [
        "# remove all columns including and after RMS \n",
        "data.drop(data.iloc[:, 7:], inplace=True, axis=1) \n",
        "\n",
        "display(data)"
      ],
      "execution_count": 8,
      "outputs": [
        {
          "output_type": "display_data",
          "data": {
            "text/html": [
              "<div>\n",
              "<style scoped>\n",
              "    .dataframe tbody tr th:only-of-type {\n",
              "        vertical-align: middle;\n",
              "    }\n",
              "\n",
              "    .dataframe tbody tr th {\n",
              "        vertical-align: top;\n",
              "    }\n",
              "\n",
              "    .dataframe thead th {\n",
              "        text-align: right;\n",
              "    }\n",
              "</style>\n",
              "<table border=\"1\" class=\"dataframe\">\n",
              "  <thead>\n",
              "    <tr style=\"text-align: right;\">\n",
              "      <th></th>\n",
              "      <th>Date</th>\n",
              "      <th>Time</th>\n",
              "      <th>Latitude</th>\n",
              "      <th>Longitude</th>\n",
              "      <th>Type</th>\n",
              "      <th>Depth</th>\n",
              "      <th>Magnitude</th>\n",
              "    </tr>\n",
              "  </thead>\n",
              "  <tbody>\n",
              "    <tr>\n",
              "      <th>0</th>\n",
              "      <td>01/02/1965</td>\n",
              "      <td>13:44:18</td>\n",
              "      <td>19.2460</td>\n",
              "      <td>145.6160</td>\n",
              "      <td>Earthquake</td>\n",
              "      <td>131.60</td>\n",
              "      <td>6.0</td>\n",
              "    </tr>\n",
              "    <tr>\n",
              "      <th>1</th>\n",
              "      <td>01/04/1965</td>\n",
              "      <td>11:29:49</td>\n",
              "      <td>1.8630</td>\n",
              "      <td>127.3520</td>\n",
              "      <td>Earthquake</td>\n",
              "      <td>80.00</td>\n",
              "      <td>5.8</td>\n",
              "    </tr>\n",
              "    <tr>\n",
              "      <th>2</th>\n",
              "      <td>01/05/1965</td>\n",
              "      <td>18:05:58</td>\n",
              "      <td>-20.5790</td>\n",
              "      <td>-173.9720</td>\n",
              "      <td>Earthquake</td>\n",
              "      <td>20.00</td>\n",
              "      <td>6.2</td>\n",
              "    </tr>\n",
              "    <tr>\n",
              "      <th>3</th>\n",
              "      <td>01/08/1965</td>\n",
              "      <td>18:49:43</td>\n",
              "      <td>-59.0760</td>\n",
              "      <td>-23.5570</td>\n",
              "      <td>Earthquake</td>\n",
              "      <td>15.00</td>\n",
              "      <td>5.8</td>\n",
              "    </tr>\n",
              "    <tr>\n",
              "      <th>4</th>\n",
              "      <td>01/09/1965</td>\n",
              "      <td>13:32:50</td>\n",
              "      <td>11.9380</td>\n",
              "      <td>126.4270</td>\n",
              "      <td>Earthquake</td>\n",
              "      <td>15.00</td>\n",
              "      <td>5.8</td>\n",
              "    </tr>\n",
              "    <tr>\n",
              "      <th>...</th>\n",
              "      <td>...</td>\n",
              "      <td>...</td>\n",
              "      <td>...</td>\n",
              "      <td>...</td>\n",
              "      <td>...</td>\n",
              "      <td>...</td>\n",
              "      <td>...</td>\n",
              "    </tr>\n",
              "    <tr>\n",
              "      <th>23407</th>\n",
              "      <td>12/28/2016</td>\n",
              "      <td>08:22:12</td>\n",
              "      <td>38.3917</td>\n",
              "      <td>-118.8941</td>\n",
              "      <td>Earthquake</td>\n",
              "      <td>12.30</td>\n",
              "      <td>5.6</td>\n",
              "    </tr>\n",
              "    <tr>\n",
              "      <th>23408</th>\n",
              "      <td>12/28/2016</td>\n",
              "      <td>09:13:47</td>\n",
              "      <td>38.3777</td>\n",
              "      <td>-118.8957</td>\n",
              "      <td>Earthquake</td>\n",
              "      <td>8.80</td>\n",
              "      <td>5.5</td>\n",
              "    </tr>\n",
              "    <tr>\n",
              "      <th>23409</th>\n",
              "      <td>12/28/2016</td>\n",
              "      <td>12:38:51</td>\n",
              "      <td>36.9179</td>\n",
              "      <td>140.4262</td>\n",
              "      <td>Earthquake</td>\n",
              "      <td>10.00</td>\n",
              "      <td>5.9</td>\n",
              "    </tr>\n",
              "    <tr>\n",
              "      <th>23410</th>\n",
              "      <td>12/29/2016</td>\n",
              "      <td>22:30:19</td>\n",
              "      <td>-9.0283</td>\n",
              "      <td>118.6639</td>\n",
              "      <td>Earthquake</td>\n",
              "      <td>79.00</td>\n",
              "      <td>6.3</td>\n",
              "    </tr>\n",
              "    <tr>\n",
              "      <th>23411</th>\n",
              "      <td>12/30/2016</td>\n",
              "      <td>20:08:28</td>\n",
              "      <td>37.3973</td>\n",
              "      <td>141.4103</td>\n",
              "      <td>Earthquake</td>\n",
              "      <td>11.94</td>\n",
              "      <td>5.5</td>\n",
              "    </tr>\n",
              "  </tbody>\n",
              "</table>\n",
              "<p>23412 rows × 7 columns</p>\n",
              "</div>"
            ],
            "text/plain": [
              "             Date      Time  Latitude  Longitude        Type   Depth  Magnitude\n",
              "0      01/02/1965  13:44:18   19.2460   145.6160  Earthquake  131.60        6.0\n",
              "1      01/04/1965  11:29:49    1.8630   127.3520  Earthquake   80.00        5.8\n",
              "2      01/05/1965  18:05:58  -20.5790  -173.9720  Earthquake   20.00        6.2\n",
              "3      01/08/1965  18:49:43  -59.0760   -23.5570  Earthquake   15.00        5.8\n",
              "4      01/09/1965  13:32:50   11.9380   126.4270  Earthquake   15.00        5.8\n",
              "...           ...       ...       ...        ...         ...     ...        ...\n",
              "23407  12/28/2016  08:22:12   38.3917  -118.8941  Earthquake   12.30        5.6\n",
              "23408  12/28/2016  09:13:47   38.3777  -118.8957  Earthquake    8.80        5.5\n",
              "23409  12/28/2016  12:38:51   36.9179   140.4262  Earthquake   10.00        5.9\n",
              "23410  12/29/2016  22:30:19   -9.0283   118.6639  Earthquake   79.00        6.3\n",
              "23411  12/30/2016  20:08:28   37.3973   141.4103  Earthquake   11.94        5.5\n",
              "\n",
              "[23412 rows x 7 columns]"
            ]
          },
          "metadata": {
            "tags": []
          }
        }
      ]
    },
    {
      "cell_type": "markdown",
      "metadata": {
        "id": "sN0pBTHFH6KR"
      },
      "source": [
        "It's important to note that not all of the events are earthquakes. "
      ]
    },
    {
      "cell_type": "code",
      "metadata": {
        "colab": {
          "base_uri": "https://localhost:8080/"
        },
        "id": "39s14pN4IJR1",
        "outputId": "ac1740fd-74c5-4bab-ba5d-6032565995ee"
      },
      "source": [
        "# see the break down of different magnitude types \n",
        "data['Type'].value_counts()"
      ],
      "execution_count": 9,
      "outputs": [
        {
          "output_type": "execute_result",
          "data": {
            "text/plain": [
              "Earthquake           23232\n",
              "Nuclear Explosion      175\n",
              "Explosion                4\n",
              "Rock Burst               1\n",
              "Name: Type, dtype: int64"
            ]
          },
          "metadata": {
            "tags": []
          },
          "execution_count": 9
        }
      ]
    },
    {
      "cell_type": "code",
      "metadata": {
        "colab": {
          "base_uri": "https://localhost:8080/"
        },
        "id": "CdBHeaSaJsy-",
        "outputId": "5d15b4d0-608a-4551-fa76-4c8c2c3f0533"
      },
      "source": [
        "# remove rows that are not earthquakes \n",
        "data.drop(data.loc[data['Type']!='Earthquake'].index, inplace=True)\n",
        "\n",
        "data['Type'].value_counts()"
      ],
      "execution_count": 10,
      "outputs": [
        {
          "output_type": "execute_result",
          "data": {
            "text/plain": [
              "Earthquake    23232\n",
              "Name: Type, dtype: int64"
            ]
          },
          "metadata": {
            "tags": []
          },
          "execution_count": 10
        }
      ]
    },
    {
      "cell_type": "markdown",
      "metadata": {
        "id": "Ib10RdtEKTgu"
      },
      "source": [
        "Now we can remove the \"Type\" column from our data, because it is redundant. "
      ]
    },
    {
      "cell_type": "code",
      "metadata": {
        "colab": {
          "base_uri": "https://localhost:8080/",
          "height": 419
        },
        "id": "GmB5rIf3Kasl",
        "outputId": "41845f36-3607-4238-c180-9d6fc4d22120"
      },
      "source": [
        "del data['Type']\n",
        "\n",
        "display(data)"
      ],
      "execution_count": 11,
      "outputs": [
        {
          "output_type": "display_data",
          "data": {
            "text/html": [
              "<div>\n",
              "<style scoped>\n",
              "    .dataframe tbody tr th:only-of-type {\n",
              "        vertical-align: middle;\n",
              "    }\n",
              "\n",
              "    .dataframe tbody tr th {\n",
              "        vertical-align: top;\n",
              "    }\n",
              "\n",
              "    .dataframe thead th {\n",
              "        text-align: right;\n",
              "    }\n",
              "</style>\n",
              "<table border=\"1\" class=\"dataframe\">\n",
              "  <thead>\n",
              "    <tr style=\"text-align: right;\">\n",
              "      <th></th>\n",
              "      <th>Date</th>\n",
              "      <th>Time</th>\n",
              "      <th>Latitude</th>\n",
              "      <th>Longitude</th>\n",
              "      <th>Depth</th>\n",
              "      <th>Magnitude</th>\n",
              "    </tr>\n",
              "  </thead>\n",
              "  <tbody>\n",
              "    <tr>\n",
              "      <th>0</th>\n",
              "      <td>01/02/1965</td>\n",
              "      <td>13:44:18</td>\n",
              "      <td>19.2460</td>\n",
              "      <td>145.6160</td>\n",
              "      <td>131.60</td>\n",
              "      <td>6.0</td>\n",
              "    </tr>\n",
              "    <tr>\n",
              "      <th>1</th>\n",
              "      <td>01/04/1965</td>\n",
              "      <td>11:29:49</td>\n",
              "      <td>1.8630</td>\n",
              "      <td>127.3520</td>\n",
              "      <td>80.00</td>\n",
              "      <td>5.8</td>\n",
              "    </tr>\n",
              "    <tr>\n",
              "      <th>2</th>\n",
              "      <td>01/05/1965</td>\n",
              "      <td>18:05:58</td>\n",
              "      <td>-20.5790</td>\n",
              "      <td>-173.9720</td>\n",
              "      <td>20.00</td>\n",
              "      <td>6.2</td>\n",
              "    </tr>\n",
              "    <tr>\n",
              "      <th>3</th>\n",
              "      <td>01/08/1965</td>\n",
              "      <td>18:49:43</td>\n",
              "      <td>-59.0760</td>\n",
              "      <td>-23.5570</td>\n",
              "      <td>15.00</td>\n",
              "      <td>5.8</td>\n",
              "    </tr>\n",
              "    <tr>\n",
              "      <th>4</th>\n",
              "      <td>01/09/1965</td>\n",
              "      <td>13:32:50</td>\n",
              "      <td>11.9380</td>\n",
              "      <td>126.4270</td>\n",
              "      <td>15.00</td>\n",
              "      <td>5.8</td>\n",
              "    </tr>\n",
              "    <tr>\n",
              "      <th>...</th>\n",
              "      <td>...</td>\n",
              "      <td>...</td>\n",
              "      <td>...</td>\n",
              "      <td>...</td>\n",
              "      <td>...</td>\n",
              "      <td>...</td>\n",
              "    </tr>\n",
              "    <tr>\n",
              "      <th>23407</th>\n",
              "      <td>12/28/2016</td>\n",
              "      <td>08:22:12</td>\n",
              "      <td>38.3917</td>\n",
              "      <td>-118.8941</td>\n",
              "      <td>12.30</td>\n",
              "      <td>5.6</td>\n",
              "    </tr>\n",
              "    <tr>\n",
              "      <th>23408</th>\n",
              "      <td>12/28/2016</td>\n",
              "      <td>09:13:47</td>\n",
              "      <td>38.3777</td>\n",
              "      <td>-118.8957</td>\n",
              "      <td>8.80</td>\n",
              "      <td>5.5</td>\n",
              "    </tr>\n",
              "    <tr>\n",
              "      <th>23409</th>\n",
              "      <td>12/28/2016</td>\n",
              "      <td>12:38:51</td>\n",
              "      <td>36.9179</td>\n",
              "      <td>140.4262</td>\n",
              "      <td>10.00</td>\n",
              "      <td>5.9</td>\n",
              "    </tr>\n",
              "    <tr>\n",
              "      <th>23410</th>\n",
              "      <td>12/29/2016</td>\n",
              "      <td>22:30:19</td>\n",
              "      <td>-9.0283</td>\n",
              "      <td>118.6639</td>\n",
              "      <td>79.00</td>\n",
              "      <td>6.3</td>\n",
              "    </tr>\n",
              "    <tr>\n",
              "      <th>23411</th>\n",
              "      <td>12/30/2016</td>\n",
              "      <td>20:08:28</td>\n",
              "      <td>37.3973</td>\n",
              "      <td>141.4103</td>\n",
              "      <td>11.94</td>\n",
              "      <td>5.5</td>\n",
              "    </tr>\n",
              "  </tbody>\n",
              "</table>\n",
              "<p>23232 rows × 6 columns</p>\n",
              "</div>"
            ],
            "text/plain": [
              "             Date      Time  Latitude  Longitude   Depth  Magnitude\n",
              "0      01/02/1965  13:44:18   19.2460   145.6160  131.60        6.0\n",
              "1      01/04/1965  11:29:49    1.8630   127.3520   80.00        5.8\n",
              "2      01/05/1965  18:05:58  -20.5790  -173.9720   20.00        6.2\n",
              "3      01/08/1965  18:49:43  -59.0760   -23.5570   15.00        5.8\n",
              "4      01/09/1965  13:32:50   11.9380   126.4270   15.00        5.8\n",
              "...           ...       ...       ...        ...     ...        ...\n",
              "23407  12/28/2016  08:22:12   38.3917  -118.8941   12.30        5.6\n",
              "23408  12/28/2016  09:13:47   38.3777  -118.8957    8.80        5.5\n",
              "23409  12/28/2016  12:38:51   36.9179   140.4262   10.00        5.9\n",
              "23410  12/29/2016  22:30:19   -9.0283   118.6639   79.00        6.3\n",
              "23411  12/30/2016  20:08:28   37.3973   141.4103   11.94        5.5\n",
              "\n",
              "[23232 rows x 6 columns]"
            ]
          },
          "metadata": {
            "tags": []
          }
        }
      ]
    },
    {
      "cell_type": "markdown",
      "metadata": {
        "id": "hRjg34Bviggw"
      },
      "source": [
        "Now we want to convert the \"Date\" and \"Time\" data that the model will be able to make sense of."
      ]
    },
    {
      "cell_type": "code",
      "metadata": {
        "id": "qIxC5Oodim3j"
      },
      "source": [
        "# creates a new column of values with a timestamp created from the combination fo date and time \n",
        "timestamp = []\n",
        "for d, t in zip(data['Date'], data['Time']):\n",
        "    try:\n",
        "        ts = datetime.datetime.strptime(d+' '+t, '%m/%d/%Y %H:%M:%S')\n",
        "        timestamp.append(time.mktime(ts.timetuple()))\n",
        "    except ValueError:\n",
        "        timestamp.append('ValueError')\n",
        "        \n",
        "timeStamp = pd.Series(timestamp)\n",
        "data['Timestamp'] = timeStamp.values"
      ],
      "execution_count": 12,
      "outputs": []
    },
    {
      "cell_type": "code",
      "metadata": {
        "colab": {
          "base_uri": "https://localhost:8080/",
          "height": 419
        },
        "id": "Skpb9U8Ii6fh",
        "outputId": "becca6d8-5289-4d1f-c93a-ca6a5fb9b67b"
      },
      "source": [
        "# drop the date and time columns because they aren't of any use anymore \n",
        "data = data.drop(['Date', 'Time'], axis=1)\n",
        "\n",
        "# remove rows where there was an error coverting to a timestamp \n",
        "data = data[data.Timestamp != 'ValueError']\n",
        "\n",
        "# check out the finalized data \n",
        "display(data)"
      ],
      "execution_count": 13,
      "outputs": [
        {
          "output_type": "display_data",
          "data": {
            "text/html": [
              "<div>\n",
              "<style scoped>\n",
              "    .dataframe tbody tr th:only-of-type {\n",
              "        vertical-align: middle;\n",
              "    }\n",
              "\n",
              "    .dataframe tbody tr th {\n",
              "        vertical-align: top;\n",
              "    }\n",
              "\n",
              "    .dataframe thead th {\n",
              "        text-align: right;\n",
              "    }\n",
              "</style>\n",
              "<table border=\"1\" class=\"dataframe\">\n",
              "  <thead>\n",
              "    <tr style=\"text-align: right;\">\n",
              "      <th></th>\n",
              "      <th>Latitude</th>\n",
              "      <th>Longitude</th>\n",
              "      <th>Depth</th>\n",
              "      <th>Magnitude</th>\n",
              "      <th>Timestamp</th>\n",
              "    </tr>\n",
              "  </thead>\n",
              "  <tbody>\n",
              "    <tr>\n",
              "      <th>0</th>\n",
              "      <td>19.2460</td>\n",
              "      <td>145.6160</td>\n",
              "      <td>131.60</td>\n",
              "      <td>6.0</td>\n",
              "      <td>-1.57631e+08</td>\n",
              "    </tr>\n",
              "    <tr>\n",
              "      <th>1</th>\n",
              "      <td>1.8630</td>\n",
              "      <td>127.3520</td>\n",
              "      <td>80.00</td>\n",
              "      <td>5.8</td>\n",
              "      <td>-1.57466e+08</td>\n",
              "    </tr>\n",
              "    <tr>\n",
              "      <th>2</th>\n",
              "      <td>-20.5790</td>\n",
              "      <td>-173.9720</td>\n",
              "      <td>20.00</td>\n",
              "      <td>6.2</td>\n",
              "      <td>-1.57356e+08</td>\n",
              "    </tr>\n",
              "    <tr>\n",
              "      <th>3</th>\n",
              "      <td>-59.0760</td>\n",
              "      <td>-23.5570</td>\n",
              "      <td>15.00</td>\n",
              "      <td>5.8</td>\n",
              "      <td>-1.57094e+08</td>\n",
              "    </tr>\n",
              "    <tr>\n",
              "      <th>4</th>\n",
              "      <td>11.9380</td>\n",
              "      <td>126.4270</td>\n",
              "      <td>15.00</td>\n",
              "      <td>5.8</td>\n",
              "      <td>-1.57026e+08</td>\n",
              "    </tr>\n",
              "    <tr>\n",
              "      <th>...</th>\n",
              "      <td>...</td>\n",
              "      <td>...</td>\n",
              "      <td>...</td>\n",
              "      <td>...</td>\n",
              "      <td>...</td>\n",
              "    </tr>\n",
              "    <tr>\n",
              "      <th>23407</th>\n",
              "      <td>38.3917</td>\n",
              "      <td>-118.8941</td>\n",
              "      <td>12.30</td>\n",
              "      <td>5.6</td>\n",
              "      <td>1.48291e+09</td>\n",
              "    </tr>\n",
              "    <tr>\n",
              "      <th>23408</th>\n",
              "      <td>38.3777</td>\n",
              "      <td>-118.8957</td>\n",
              "      <td>8.80</td>\n",
              "      <td>5.5</td>\n",
              "      <td>1.48292e+09</td>\n",
              "    </tr>\n",
              "    <tr>\n",
              "      <th>23409</th>\n",
              "      <td>36.9179</td>\n",
              "      <td>140.4262</td>\n",
              "      <td>10.00</td>\n",
              "      <td>5.9</td>\n",
              "      <td>1.48293e+09</td>\n",
              "    </tr>\n",
              "    <tr>\n",
              "      <th>23410</th>\n",
              "      <td>-9.0283</td>\n",
              "      <td>118.6639</td>\n",
              "      <td>79.00</td>\n",
              "      <td>6.3</td>\n",
              "      <td>1.48305e+09</td>\n",
              "    </tr>\n",
              "    <tr>\n",
              "      <th>23411</th>\n",
              "      <td>37.3973</td>\n",
              "      <td>141.4103</td>\n",
              "      <td>11.94</td>\n",
              "      <td>5.5</td>\n",
              "      <td>1.48313e+09</td>\n",
              "    </tr>\n",
              "  </tbody>\n",
              "</table>\n",
              "<p>23229 rows × 5 columns</p>\n",
              "</div>"
            ],
            "text/plain": [
              "       Latitude  Longitude   Depth  Magnitude    Timestamp\n",
              "0       19.2460   145.6160  131.60        6.0 -1.57631e+08\n",
              "1        1.8630   127.3520   80.00        5.8 -1.57466e+08\n",
              "2      -20.5790  -173.9720   20.00        6.2 -1.57356e+08\n",
              "3      -59.0760   -23.5570   15.00        5.8 -1.57094e+08\n",
              "4       11.9380   126.4270   15.00        5.8 -1.57026e+08\n",
              "...         ...        ...     ...        ...          ...\n",
              "23407   38.3917  -118.8941   12.30        5.6  1.48291e+09\n",
              "23408   38.3777  -118.8957    8.80        5.5  1.48292e+09\n",
              "23409   36.9179   140.4262   10.00        5.9  1.48293e+09\n",
              "23410   -9.0283   118.6639   79.00        6.3  1.48305e+09\n",
              "23411   37.3973   141.4103   11.94        5.5  1.48313e+09\n",
              "\n",
              "[23229 rows x 5 columns]"
            ]
          },
          "metadata": {
            "tags": []
          }
        }
      ]
    },
    {
      "cell_type": "markdown",
      "metadata": {
        "id": "THsPSeWnSWFS"
      },
      "source": [
        "## Analyzing Data"
      ]
    },
    {
      "cell_type": "markdown",
      "metadata": {
        "id": "vUX03sy-m1_8"
      },
      "source": [
        "Taking a closer look at depth and magnitude, the labels we want to predict. "
      ]
    },
    {
      "cell_type": "code",
      "metadata": {
        "id": "n83UqnukW8lK"
      },
      "source": [
        "# define a custom round function so we can round values to the nearest \"base\" magnitude \n",
        "def custom_round(x, base):\n",
        "    return base * round(float(x)/base)"
      ],
      "execution_count": 14,
      "outputs": []
    },
    {
      "cell_type": "code",
      "metadata": {
        "colab": {
          "base_uri": "https://localhost:8080/"
        },
        "id": "xYIz_ZmwL5b7",
        "outputId": "ba16e62e-3dec-467a-8830-10afac16e26a"
      },
      "source": [
        "# checking out the spread of magnitude across data points \n",
        "rounded_mag = data['Magnitude'].apply(lambda x: custom_round(x, base=0.25)) # round mag. values to nearest 0.25\n",
        "mag_spread = rounded_mag.value_counts() # check out the spread of data \n",
        "print(mag_spread)"
      ],
      "execution_count": 15,
      "outputs": [
        {
          "output_type": "stream",
          "text": [
            "5.50    8610\n",
            "5.75    5404\n",
            "6.00    4673\n",
            "6.25    1670\n",
            "6.50    1401\n",
            "6.75     547\n",
            "7.00     477\n",
            "7.25     165\n",
            "7.50     151\n",
            "7.75      70\n",
            "8.00      41\n",
            "8.25      12\n",
            "8.50       4\n",
            "9.00       2\n",
            "8.75       2\n",
            "Name: Magnitude, dtype: int64\n"
          ],
          "name": "stdout"
        }
      ]
    },
    {
      "cell_type": "code",
      "metadata": {
        "colab": {
          "base_uri": "https://localhost:8080/",
          "height": 309
        },
        "id": "JWpPZozaVJRK",
        "outputId": "f628e32a-c758-4ec0-f68c-7565dd6e9e0f"
      },
      "source": [
        "mag_spread.plot(xlabel='Magnitude', ylabel='Frequency', kind='bar')"
      ],
      "execution_count": 16,
      "outputs": [
        {
          "output_type": "execute_result",
          "data": {
            "text/plain": [
              "<matplotlib.axes._subplots.AxesSubplot at 0x7f10532ac550>"
            ]
          },
          "metadata": {
            "tags": []
          },
          "execution_count": 16
        },
        {
          "output_type": "display_data",
          "data": {
            "image/png": "[encoded data removed]",
            "text/plain": [
              "<Figure size 432x288 with 1 Axes>"
            ]
          },
          "metadata": {
            "tags": [],
            "needs_background": "light"
          }
        }
      ]
    },
    {
      "cell_type": "code",
      "metadata": {
        "colab": {
          "base_uri": "https://localhost:8080/"
        },
        "id": "2j7HSnfkmztC",
        "outputId": "0881ed0a-2ff0-4e92-b3e9-bc9075626336"
      },
      "source": [
        "# checking out the spread of depth across data points \n",
        "rounded_depth = data['Depth'].round(decimals=-1) # round depth values to nearest 10\n",
        "depth_spread = rounded_depth.value_counts() # check out the spread of data \n",
        "print(depth_spread)"
      ],
      "execution_count": 17,
      "outputs": [
        {
          "output_type": "stream",
          "text": [
            "30.0     5721\n",
            "10.0     5518\n",
            "20.0     2743\n",
            "40.0     2200\n",
            "50.0     1042\n",
            "         ... \n",
            "300.0       8\n",
            "680.0       7\n",
            "670.0       6\n",
            "690.0       4\n",
            "700.0       1\n",
            "Name: Depth, Length: 71, dtype: int64\n"
          ],
          "name": "stdout"
        }
      ]
    },
    {
      "cell_type": "code",
      "metadata": {
        "colab": {
          "base_uri": "https://localhost:8080/",
          "height": 419
        },
        "id": "xj8DLn5oYwC9",
        "outputId": "f6e8cbe6-fb6b-4583-f26b-04092a09f553"
      },
      "source": [
        "data['Magnitude'] = rounded_mag\n",
        "data['Depth'] = rounded_depth\n",
        "display(data)"
      ],
      "execution_count": 18,
      "outputs": [
        {
          "output_type": "display_data",
          "data": {
            "text/html": [
              "<div>\n",
              "<style scoped>\n",
              "    .dataframe tbody tr th:only-of-type {\n",
              "        vertical-align: middle;\n",
              "    }\n",
              "\n",
              "    .dataframe tbody tr th {\n",
              "        vertical-align: top;\n",
              "    }\n",
              "\n",
              "    .dataframe thead th {\n",
              "        text-align: right;\n",
              "    }\n",
              "</style>\n",
              "<table border=\"1\" class=\"dataframe\">\n",
              "  <thead>\n",
              "    <tr style=\"text-align: right;\">\n",
              "      <th></th>\n",
              "      <th>Latitude</th>\n",
              "      <th>Longitude</th>\n",
              "      <th>Depth</th>\n",
              "      <th>Magnitude</th>\n",
              "      <th>Timestamp</th>\n",
              "    </tr>\n",
              "  </thead>\n",
              "  <tbody>\n",
              "    <tr>\n",
              "      <th>0</th>\n",
              "      <td>19.2460</td>\n",
              "      <td>145.6160</td>\n",
              "      <td>130.0</td>\n",
              "      <td>6.00</td>\n",
              "      <td>-1.57631e+08</td>\n",
              "    </tr>\n",
              "    <tr>\n",
              "      <th>1</th>\n",
              "      <td>1.8630</td>\n",
              "      <td>127.3520</td>\n",
              "      <td>80.0</td>\n",
              "      <td>5.75</td>\n",
              "      <td>-1.57466e+08</td>\n",
              "    </tr>\n",
              "    <tr>\n",
              "      <th>2</th>\n",
              "      <td>-20.5790</td>\n",
              "      <td>-173.9720</td>\n",
              "      <td>20.0</td>\n",
              "      <td>6.25</td>\n",
              "      <td>-1.57356e+08</td>\n",
              "    </tr>\n",
              "    <tr>\n",
              "      <th>3</th>\n",
              "      <td>-59.0760</td>\n",
              "      <td>-23.5570</td>\n",
              "      <td>20.0</td>\n",
              "      <td>5.75</td>\n",
              "      <td>-1.57094e+08</td>\n",
              "    </tr>\n",
              "    <tr>\n",
              "      <th>4</th>\n",
              "      <td>11.9380</td>\n",
              "      <td>126.4270</td>\n",
              "      <td>20.0</td>\n",
              "      <td>5.75</td>\n",
              "      <td>-1.57026e+08</td>\n",
              "    </tr>\n",
              "    <tr>\n",
              "      <th>...</th>\n",
              "      <td>...</td>\n",
              "      <td>...</td>\n",
              "      <td>...</td>\n",
              "      <td>...</td>\n",
              "      <td>...</td>\n",
              "    </tr>\n",
              "    <tr>\n",
              "      <th>23407</th>\n",
              "      <td>38.3917</td>\n",
              "      <td>-118.8941</td>\n",
              "      <td>10.0</td>\n",
              "      <td>5.50</td>\n",
              "      <td>1.48291e+09</td>\n",
              "    </tr>\n",
              "    <tr>\n",
              "      <th>23408</th>\n",
              "      <td>38.3777</td>\n",
              "      <td>-118.8957</td>\n",
              "      <td>10.0</td>\n",
              "      <td>5.50</td>\n",
              "      <td>1.48292e+09</td>\n",
              "    </tr>\n",
              "    <tr>\n",
              "      <th>23409</th>\n",
              "      <td>36.9179</td>\n",
              "      <td>140.4262</td>\n",
              "      <td>10.0</td>\n",
              "      <td>6.00</td>\n",
              "      <td>1.48293e+09</td>\n",
              "    </tr>\n",
              "    <tr>\n",
              "      <th>23410</th>\n",
              "      <td>-9.0283</td>\n",
              "      <td>118.6639</td>\n",
              "      <td>80.0</td>\n",
              "      <td>6.25</td>\n",
              "      <td>1.48305e+09</td>\n",
              "    </tr>\n",
              "    <tr>\n",
              "      <th>23411</th>\n",
              "      <td>37.3973</td>\n",
              "      <td>141.4103</td>\n",
              "      <td>10.0</td>\n",
              "      <td>5.50</td>\n",
              "      <td>1.48313e+09</td>\n",
              "    </tr>\n",
              "  </tbody>\n",
              "</table>\n",
              "<p>23229 rows × 5 columns</p>\n",
              "</div>"
            ],
            "text/plain": [
              "       Latitude  Longitude  Depth  Magnitude    Timestamp\n",
              "0       19.2460   145.6160  130.0       6.00 -1.57631e+08\n",
              "1        1.8630   127.3520   80.0       5.75 -1.57466e+08\n",
              "2      -20.5790  -173.9720   20.0       6.25 -1.57356e+08\n",
              "3      -59.0760   -23.5570   20.0       5.75 -1.57094e+08\n",
              "4       11.9380   126.4270   20.0       5.75 -1.57026e+08\n",
              "...         ...        ...    ...        ...          ...\n",
              "23407   38.3917  -118.8941   10.0       5.50  1.48291e+09\n",
              "23408   38.3777  -118.8957   10.0       5.50  1.48292e+09\n",
              "23409   36.9179   140.4262   10.0       6.00  1.48293e+09\n",
              "23410   -9.0283   118.6639   80.0       6.25  1.48305e+09\n",
              "23411   37.3973   141.4103   10.0       5.50  1.48313e+09\n",
              "\n",
              "[23229 rows x 5 columns]"
            ]
          },
          "metadata": {
            "tags": []
          }
        }
      ]
    },
    {
      "cell_type": "markdown",
      "metadata": {
        "id": "bc7R_IMpLECt"
      },
      "source": [
        "## Split into train and test data"
      ]
    },
    {
      "cell_type": "code",
      "metadata": {
        "id": "SgDR3ZN3bHrk"
      },
      "source": [
        "# get the first three columns, which are the feature attributes that we want to train the model on \n",
        "features = data[['Timestamp', 'Latitude', 'Longitude', 'Magnitude']]\n",
        "labels = data[['Depth']]\n",
        "\n",
        "#split the data into test & train \n",
        "train, test, train_labels, test_labels = train_test_split(features, labels, test_size = 0.25, random_state=5)"
      ],
      "execution_count": 19,
      "outputs": []
    },
    {
      "cell_type": "code",
      "metadata": {
        "colab": {
          "base_uri": "https://localhost:8080/"
        },
        "id": "TSaYPYWEZN6L",
        "outputId": "a8b6d658-f21c-47bd-e645-29413975c5ad"
      },
      "source": [
        "print('Training Features Shape:', train.shape)\n",
        "print('Training Labels Shape:', train_labels.shape)\n",
        "print('Testing Features Shape:', test.shape)\n",
        "print('Testing Labels Shape:', test_labels.shape)"
      ],
      "execution_count": 20,
      "outputs": [
        {
          "output_type": "stream",
          "text": [
            "Training Features Shape: (17421, 4)\n",
            "Training Labels Shape: (17421, 1)\n",
            "Testing Features Shape: (5808, 4)\n",
            "Testing Labels Shape: (5808, 1)\n"
          ],
          "name": "stdout"
        }
      ]
    },
    {
      "cell_type": "markdown",
      "metadata": {
        "id": "hS6lo3rpkdK6"
      },
      "source": [
        "## Build the random forest classifier. "
      ]
    },
    {
      "cell_type": "code",
      "metadata": {
        "colab": {
          "base_uri": "https://localhost:8080/"
        },
        "id": "BuPa8SSAdY-Q",
        "outputId": "d864cbd8-0ee7-4d8c-c8dd-69e71c9b4537"
      },
      "source": [
        "# build the model with 100 trees\n",
        "model = RandomForestRegressor(n_estimators=100,\n",
        "                               criterion='mse',\n",
        "                               n_jobs=-1, \n",
        "                               verbose=1)\n",
        "\n",
        "# fit the model on training data\n",
        "model.fit(train, train_labels)\n",
        "test_pred = model.predict(test)"
      ],
      "execution_count": 21,
      "outputs": [
        {
          "output_type": "stream",
          "text": [
            "/usr/local/lib/python3.7/dist-packages/ipykernel_launcher.py:8: DataConversionWarning: A column-vector y was passed when a 1d array was expected. Please change the shape of y to (n_samples,), for example using ravel().\n",
            "  \n",
            "[Parallel(n_jobs=-1)]: Using backend ThreadingBackend with 2 concurrent workers.\n",
            "[Parallel(n_jobs=-1)]: Done  46 tasks      | elapsed:    2.6s\n",
            "[Parallel(n_jobs=-1)]: Done 100 out of 100 | elapsed:    5.7s finished\n",
            "[Parallel(n_jobs=2)]: Using backend ThreadingBackend with 2 concurrent workers.\n",
            "[Parallel(n_jobs=2)]: Done  46 tasks      | elapsed:    0.1s\n",
            "[Parallel(n_jobs=2)]: Done 100 out of 100 | elapsed:    0.1s finished\n"
          ],
          "name": "stderr"
        }
      ]
    },
    {
      "cell_type": "markdown",
      "metadata": {
        "id": "B7CKzKXbkJfb"
      },
      "source": [
        "## Analyze model results "
      ]
    },
    {
      "cell_type": "code",
      "metadata": {
        "colab": {
          "base_uri": "https://localhost:8080/"
        },
        "id": "6BBXDdcAi-3m",
        "outputId": "9a26b066-ff34-46f5-849e-52a42b091219"
      },
      "source": [
        "print('Mean Absolute Error:', metrics.mean_absolute_error(test_labels, test_pred))\n",
        "print('Mean Squared Error:', metrics.mean_squared_error(test_labels, test_pred))\n",
        "print('Root Mean Squared Error:', np.sqrt(metrics.mean_squared_error(test_labels, test_pred)))\n",
        "print('R2 Score:', metrics.r2_score(test_labels, test_pred))"
      ],
      "execution_count": 22,
      "outputs": [
        {
          "output_type": "stream",
          "text": [
            "Mean Absolute Error: 20.11642561983471\n",
            "Mean Squared Error: 1910.1117320936642\n",
            "Root Mean Squared Error: 43.704825043622634\n",
            "R2 Score: 0.8651527852228991\n"
          ],
          "name": "stdout"
        }
      ]
    },
    {
      "cell_type": "markdown",
      "metadata": {
        "id": "ca_2nHhskMu5"
      },
      "source": [
        "Look at the feature importance for each of the features, aka the columns. "
      ]
    },
    {
      "cell_type": "code",
      "metadata": {
        "colab": {
          "base_uri": "https://localhost:8080/",
          "height": 295
        },
        "id": "12hU6CI_dz-L",
        "outputId": "860b5f6f-b9e3-4e67-a78c-fff8470c1a37"
      },
      "source": [
        "importances = model.feature_importances_\n",
        "indices = np.argsort(importances)\n",
        "\n",
        "plt.title('Feature Importances')\n",
        "plt.barh(range(len(indices)), importances[indices], color='g', align='center')\n",
        "plt.yticks(range(len(indices)), features)\n",
        "plt.xlabel('Relative Importance')\n",
        "plt.show()"
      ],
      "execution_count": 23,
      "outputs": [
        {
          "output_type": "display_data",
          "data": {
            "image/png": "[encoded data removed]",
            "text/plain": [
              "<Figure size 432x288 with 1 Axes>"
            ]
          },
          "metadata": {
            "tags": [],
            "needs_background": "light"
          }
        }
      ]
    }
  ]
}