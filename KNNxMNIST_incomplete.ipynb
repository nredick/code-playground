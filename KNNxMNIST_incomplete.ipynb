{
  "nbformat": 4,
  "nbformat_minor": 0,
  "metadata": {
    "colab": {
      "name": "KNNxMNIST - incomplete.ipynb",
      "provenance": [],
      "collapsed_sections": [
        "njSx_T59aNaB"
      ],
      "authorship_tag": "ABX9TyPjO7P7t2ArIjRaaDBIF4WH",
      "include_colab_link": true
    },
    "kernelspec": {
      "name": "python3",
      "display_name": "Python 3"
    }
  },
  "cells": [
    {
      "cell_type": "markdown",
      "metadata": {
        "id": "view-in-github",
        "colab_type": "text"
      },
      "source": [
        "<a href=\"https://colab.research.google.com/github/nredick/code-playground/blob/main/KNNxMNIST_incomplete.ipynb\" target=\"_parent\"><img src=\"https://colab.research.google.com/assets/colab-badge.svg\" alt=\"Open In Colab\"/></a>"
      ]
    },
    {
      "cell_type": "markdown",
      "metadata": {
        "id": "ZQkMb-7vOAe4"
      },
      "source": [
        "# **Intro to image-based classification with the K-Nearest Neighbors (KNN) algorithm**"
      ]
    },
    {
      "cell_type": "markdown",
      "metadata": {
        "id": "KwZOiPsR1D-i"
      },
      "source": [
        "> *You can use the connect button to connect to a local or hosted runtime: hosted runtime runs on a new machine instance in Google Cloud, local runtime runs on your machine*\n",
        "\n",
        "\n",
        "\n",
        "\n",
        "\n"
      ]
    },
    {
      "cell_type": "markdown",
      "metadata": {
        "id": "D-HbvWu0vEQl"
      },
      "source": [
        "We'll be using the [MNIST dataset](http://yann.lecun.com/exdb/mnist/), the \"hello world\" of machine learning datasets. The MNIST dataset is a database of 70,000 handwritten digits [0-9] that are 28 x 28 pixels values (0-255). \n",
        "\n",
        "Supervised learning padradigmes work well for training models on the MNIST set. "
      ]
    },
    {
      "cell_type": "code",
      "metadata": {
        "id": "57J_fG3JTI9Q"
      },
      "source": [
        "## imports \n",
        "!pip install numpy\n",
        "!pip install pandas\n",
        "!pip install matplotlib\n",
        "\n",
        "# imports for sklearn \n",
        "from sklearn import neighbors \n",
        "from sklearn.metrics import classification_report, accuracy_score, plot_confusion_matrix\n",
        "\n",
        "# import to be able to save and load model \n",
        "import pickle\n",
        "\n",
        "# helper libraries \n",
        "import numpy as np\n",
        "import pandas as pd\n",
        "import matplotlib.pyplot as plt\n",
        "from random import randrange\n",
        "import math"
      ],
      "execution_count": null,
      "outputs": []
    },
    {
      "cell_type": "markdown",
      "metadata": {
        "id": "wYk7uLh0x6Co"
      },
      "source": [
        "Now we import the MNIST dataset, which (luckily for us) is built into Keras. \n",
        "\n",
        "Loading the dataset gives us four NumPy arrays. X_train and y_train comprise the *training set* that the KNN model will train on and x_test and y_test comprise the *test set* that the model will be evaluated against. \n",
        "\n",
        "It is also common to have a third set of data, called a *validation set*, which is used to determine whether a model's hyperparameters shouldbe tuned before final testing, but a train and test set will be sufficient for this model. \n",
        "\n",
        "The x_train/x_test arrays contain 28x28 2D feature arrays/matrices in which each 'slot' holds a pixel value ranging from 0 to 255, representing the image. They can also be imagined as a 784-dimensional feature vectors. \n",
        "\n",
        "The y_train/y_test arrays contain the *labels* for each of the image matrices in the x-arrays. Each 'slot' holds an integer value from 0-9. "
      ]
    },
    {
      "cell_type": "code",
      "metadata": {
        "id": "IGKofHFtx5uA"
      },
      "source": [
        "from keras.datasets import mnist\n",
        "\n",
        "(x_train, y_train), (x_test, y_test) = mnist.load_data()"
      ],
      "execution_count": null,
      "outputs": []
    },
    {
      "cell_type": "markdown",
      "metadata": {
        "id": "tly1pxVfUNR4"
      },
      "source": [
        "# Visualising the data"
      ]
    },
    {
      "cell_type": "code",
      "metadata": {
        "id": "s_9xyX4q0XY0"
      },
      "source": [
        "# print the shape of our image arrays x_train and x_test\n",
        "''' TODO: CODE HERE '''\n",
        "\n",
        "# print the number of labels for each set \n",
        "''' TODO: CODE HERE '''\n",
        "\n",
        "# visualise a random image from the training data\n",
        "plt.figure()\n",
        "plt.imshow(x_train[randrange(len(x_train-1))])\n",
        "plt.colorbar()\n",
        "plt.grid(False)\n",
        "plt.show()"
      ],
      "execution_count": null,
      "outputs": []
    },
    {
      "cell_type": "markdown",
      "metadata": {
        "id": "wbSKi41aUXF8"
      },
      "source": [
        "# Data preprocessing"
      ]
    },
    {
      "cell_type": "markdown",
      "metadata": {
        "id": "t4A9ZQQz18fH"
      },
      "source": [
        "Notice that the image is not grayscale. We want to scale the pixel values to be betweeen 0 and 1 before the model trains on them because colour is irrelevant to being able to identify the digit in the image.\n",
        "\n",
        "This is a form of prerocessing that is common in image analysis. \n",
        "\n",
        "Unlike most data, the MNIST dataset is mostly preprocessed for us. Preprocessing is critical for training a good model, but is usually the most time and computationally expenseive part of the ML process.\n",
        "\n",
        "Examples of image prepocessing include:\n",
        "\n",
        "* Resizing images\n",
        "* Colour to grayscale\n",
        "* Noise removal, such as Gaussian blur\n",
        "* Segmentation"
      ]
    },
    {
      "cell_type": "code",
      "metadata": {
        "id": "R17CRsL_18NQ"
      },
      "source": [
        "# scale the pixel values of each image to grayscale by dividing by 255\n",
        "''' TODO: CODE HERE '''"
      ],
      "execution_count": null,
      "outputs": []
    },
    {
      "cell_type": "markdown",
      "metadata": {
        "id": "Fwc3CvgW3BCH"
      },
      "source": [
        "Now our data looks like this: "
      ]
    },
    {
      "cell_type": "code",
      "metadata": {
        "id": "7-PIWYCA3Ame"
      },
      "source": [
        "# show the first 10 images \n",
        "plt.figure(figsize=(10,10))\n",
        "for i in range(25):\n",
        "    plt.subplot(5,5,i+1)\n",
        "    plt.xticks([])\n",
        "    plt.yticks([])\n",
        "    plt.grid(False)\n",
        "    plt.imshow(x_train[i], cmap=\"gray_r\")\n",
        "    plt.xlabel(y_train[i], fontsize=18)\n",
        "plt.show()"
      ],
      "execution_count": null,
      "outputs": []
    },
    {
      "cell_type": "markdown",
      "metadata": {
        "id": "njSx_T59aNaB"
      },
      "source": [
        "# Implementation of a KNN with cross-fold validation without the sklearn library"
      ]
    },
    {
      "cell_type": "markdown",
      "metadata": {
        "id": "aS4X5r1Puocc"
      },
      "source": [
        "This code is just for reference. "
      ]
    },
    {
      "cell_type": "markdown",
      "metadata": {
        "id": "MfLawIyVae5M"
      },
      "source": [
        "[Source - MAIS202](https://tiny.cc/mais202-knn-mnist2)\n",
        "\n",
        "```\n",
        "# import the mnist data set from keras \n",
        "from tensorflow.keras.datasets import mnist \n",
        "\n",
        "# load the mnist data into our variables \n",
        "(X_train, y_train), (X_test, y_test) = mnist.load_data() \n",
        "\n",
        "# reshape the 3D arrays to 2D arrays by flattening the images from 28x28 matrices to 1x784 arrays \n",
        "X_train = np.reshape(X_train, (-1, 784)) \n",
        "X_test = np.reshape(X_test, (-1, 784)) \n",
        "\n",
        "# define a function to perform cross-validation folds \n",
        "def cv_fold(X_train_folds, y_train_folds, X_valid_fold, y_valid_fold, k):\n",
        "  correct_count = 0\n",
        "\n",
        "  for valid_idx, valid_image in enumerate(X_valid_fold):\n",
        "    distances = []\n",
        "    for train_image in X_train_folds:\n",
        "      # compute the euclidean dist/l2 norm between two images \n",
        "      distance = np.linalg.norm(valid_image - train_image)\n",
        "      distances.append(distance)\n",
        "      \n",
        "    for i in range(k):\n",
        "      min_index = np.argmin(distances)\n",
        "      neighbour_indices.append(min_index)\n",
        "      distances[min_index] = np.Inf\n",
        "\n",
        "    neighbour_labels = y_train_folds[neighbour_indices]\n",
        "    prediction = np.argmin(neighbour_labels)\n",
        "    if prediction.shape == 1:\n",
        "      prediction = np.random.choice(prediction)\n",
        "    if prediction == y_valid_fold[valid_idx]:\n",
        "      correct_count += 1\n",
        "\n",
        "  accuracy = correct_count / X_valid_fold.shape[0] * 100 \n",
        "\n",
        "  return accuracy\n",
        "\n",
        "def cross_validate(k, num_folds=5):\n",
        "  increment = X_train.shape[0] // num_folds\n",
        "  fold_accuracies = []\n",
        "\n",
        "  for i in range(num_folds):\n",
        "    X_valid_fold = X_train[i*increment:(i+1)*increment]\n",
        "    y_valid_fold = y_train[i*increment:(i+1)*increment]\n",
        "    X_train_folds = np.delete(X_train, np.s_[i*increment:(i+1)*increment], axis=0)\n",
        "    y_train_folds = np.delete(y_train, np.s_[i*increment:(i+1)*increment], axis=0)\n",
        "    fold_accuracies.append(cv_fold(X_train_folds, y_train_folds,\n",
        "                                   X_valid_fold, y_valid_fold, k))\n",
        "    \n",
        "  fold_accuracies = np.array(fold_accuracies)\n",
        "  cv_accuracy = np.mean(fold_accuracies)\n",
        "\n",
        "  print(\"K = {}, CV Accuracy: {}\".format(cv_accuracy))\n",
        "\n",
        "for k in [1,2,5,10]:\n",
        "  cross_validate(k)\n",
        "\n",
        "```"
      ]
    },
    {
      "cell_type": "markdown",
      "metadata": {
        "id": "RASFt025WGs6"
      },
      "source": [
        "# Training the KNN model using the sklearn library "
      ]
    },
    {
      "cell_type": "markdown",
      "metadata": {
        "id": "Fx-Fm7CJXC9g"
      },
      "source": [
        "While it's possible to implement the KNN model ourselves, the sci-kit learn library has already implemented it.\n",
        "\n",
        "So then we just need to figure out an optimal k-value for this dataset. In general, the smaller k is, the tighter the “fit” of the model.\n",
        "\n",
        "![knn - selecting k.png](data:image/png;base64,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)\n",
        "\n",
        "([Image Source](https://elvinouyang.github.io/assets/images/Introduction%20to%20Machine%20Learning%20with%20Python%20-%20Chapter%202%20-%20Datasets%20and%20kNN_files/Introduction%20to%20Machine%20Learning%20with%20Python%20-%20Chapter%202%20-%20Datasets%20and%20kNN_31_1.png))"
      ]
    },
    {
      "cell_type": "markdown",
      "metadata": {
        "id": "EsgPjkzBZvNL"
      },
      "source": [
        "For this example, we're going to use Euclidean distance (L2 norm), like in the self-implemented example. Minkowski distance is the default for the sklearn implementation and some other distance metrics we could use are: \n",
        "\n",
        "*   Manhattan distance\n",
        "*   Chebyshev distance \n",
        "\n",
        "(amongst others which can be found in the [documentation](https://scikit-learn.org/stable/modules/generated/sklearn.neighbors.DistanceMetric.html#sklearn.neighbors.DistanceMetric))"
      ]
    },
    {
      "cell_type": "markdown",
      "metadata": {
        "id": "sNMJTWh4XHyh"
      },
      "source": [
        "The sklearn.neighbors.KNeighborsClassifier has set [default parameters](https://scikit-learn.org/stable/modules/generated/sklearn.neighbors.KNeighborsClassifier.html) so in theory we don't need to specifiy any, but we want to find our optimal k, and it can be good practice to see what parameters the model is using during training so that the code is more readable. "
      ]
    },
    {
      "cell_type": "code",
      "metadata": {
        "id": "DdvYngOnWXze"
      },
      "source": [
        "# reshape the image arrays (x_train and x_test) from 3D to 2D; flatten the images from 28x28 to 1x784 \n",
        "# note that passing -1 as a value prompts np to imply the value for the first parameter based on the second parameter \n",
        "x_train = ''' TODO: CODE HERE '''\n",
        "y_train = ''' TODO: CODE HERE '''\n",
        "\n",
        "# check out the new shape of the arrays (they will be the same so we only need to look at one)\n",
        "print(f'New x_train shape: {x_train.shape}')"
      ],
      "execution_count": null,
      "outputs": []
    },
    {
      "cell_type": "markdown",
      "metadata": {
        "id": "E-2kYIgqG93w"
      },
      "source": [
        "Here's one way to try an figure out the optimal k value for the model: you can train separate models on different k values and compare each of their accuracies. \n",
        "\n",
        "```\n",
        "# train multiple knns that classify inputs based on k neighbours using euclidean distance \n",
        "for k in [3, 5, 7]:\n",
        "    print(f'Training a KNN for MNIST with k = {k}')\n",
        "    knn_classifier = neighbors.KNeighborsClassifier(n_neighbors=k, metric='euclidean')\n",
        "    accuracy = cross_val_score(knn_classifier, x_train, y_train) # uses default cv\n",
        "    print(f'Cross-validation accuracy for k = {k}: {accuracy}')\n",
        "```\n",
        "\n",
        "However, a KNN model takes a long time to train because it does not generalize any of the data, instead the model 'memorizes' it. It can consequently be classified as a non-parametric model: the number of parameters increases with the size of the training set. Which is why I'm not going to try and run this code. "
      ]
    },
    {
      "cell_type": "markdown",
      "metadata": {
        "id": "M7Bg6SCFwcFu"
      },
      "source": [
        "One way to generalize the optimal k value without training multiple models is to take the square root of n, where n is the total number of samples in the training set. "
      ]
    },
    {
      "cell_type": "code",
      "metadata": {
        "id": "YAG-VrDnwpQo"
      },
      "source": [
        "# approximate optimal k value by computing the integer square root\n",
        "''' TODO: CODE HERE '''\n",
        "\n",
        "# now we can proceed to final training and testing of the model \n",
        "print(f'Training a KNN for MNIST with k = {k}')\n",
        "knn_classifier = ''' TODO: CODE HERE - \n",
        "I recommend using the euclidean metric, but you could use the default \n",
        "parameter for the distance metric, which is minkowski distance'''\n",
        "\n",
        "# fit the data to the model/train the model \n",
        "''' TODO: CODE HERE '''"
      ],
      "execution_count": null,
      "outputs": []
    },
    {
      "cell_type": "code",
      "metadata": {
        "id": "z7nUw6JmOGN9"
      },
      "source": [
        "# save our model \n",
        "filename = 'final-model.sav'\n",
        "final_model = pickle.dump(knn_classifier, open(filename, 'wb'))"
      ],
      "execution_count": null,
      "outputs": []
    },
    {
      "cell_type": "markdown",
      "metadata": {
        "id": "edy4ttW9QRG7"
      },
      "source": [
        "Making predictions with the KNN can be time consuming because it makes predictions in O(n) time, whereas it trains in O(1) time. "
      ]
    },
    {
      "cell_type": "code",
      "metadata": {
        "id": "6aYyX6eFTrDv"
      },
      "source": [
        "# make predictions on the test data and get accuracy \n",
        "y_pred = knn_classifier.predict(x_test)\n",
        "accuracy = accuracy_score(y_test, y_pred)\n",
        "report = classification_report(y_test, y_pred)\n",
        "print(f'Test accuracy for the final model: {accuracy}\\n')\n",
        "print(f'Classification report:\\n{report}')"
      ],
      "execution_count": null,
      "outputs": []
    },
    {
      "cell_type": "code",
      "metadata": {
        "id": "S2tFAv3YOIUT"
      },
      "source": [
        "# make predictions on the test data and get accuracy \n",
        "y_pred = ''' TODO: CODE HERE '''\n",
        "accuracy = ''' TODO: CODE HERE '''\n",
        "report = ''' TODO: CODE HERE '''\n",
        "print(f'Test accuracy for the final model: {accuracy}')\n",
        "print(f'Classification report:\\n{report}')"
      ],
      "execution_count": null,
      "outputs": []
    },
    {
      "cell_type": "markdown",
      "metadata": {
        "id": "32PXnF5x3L_5"
      },
      "source": [
        "# Using a confusion matrix to understand model outputs and success\n",
        "\n",
        "![confusion_matrix.png](data:image/png;base64,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)\n",
        "\n",
        "([Image Source](https://towardsdatascience.com/understanding-confusion-matrix-a9ad42dcfd62))"
      ]
    },
    {
      "cell_type": "code",
      "metadata": {
        "id": "evayegX12H1q"
      },
      "source": [
        "disp = plot_confusion_matrix(knn_classifier, x_test, y_test)\n",
        "disp.figure_.suptitle(\"Confusion Matrix\")\n",
        "print(f\"Confusion matrix:\\n{disp.confusion_matrix}\")\n",
        "plt.show()"
      ],
      "execution_count": null,
      "outputs": []
    },
    {
      "cell_type": "markdown",
      "metadata": {
        "id": "JGFpVkvx1bEZ"
      },
      "source": [
        "# Loading the saved model and making predictions "
      ]
    },
    {
      "cell_type": "markdown",
      "metadata": {
        "id": "63Hxi0xe1fbX"
      },
      "source": [
        "You can load the model and use it to make predictions, which is useful if you need to load the model elsewhere or at a different time. \n",
        "\n",
        "It is good practice to save your best model so that you don't have to train it again, especially for a model like a KNN that takes a long time to train. "
      ]
    },
    {
      "cell_type": "code",
      "metadata": {
        "id": "uYZ0JNZBynjP"
      },
      "source": [
        "loaded_model = pickle.load(open(filename, 'rb'))\n",
        "result = loaded_model.score(X_test, Y_test)\n",
        "print(result)"
      ],
      "execution_count": null,
      "outputs": []
    },
    {
      "cell_type": "markdown",
      "metadata": {
        "id": "w9W6tNPUUkr_"
      },
      "source": [
        "# Sources"
      ]
    },
    {
      "cell_type": "markdown",
      "metadata": {
        "id": "EQ5l6wzN6XC-"
      },
      "source": [
        "[MNIST dataset](http://yann.lecun.com/exdb/mnist/)\n",
        "\n",
        "McGill Artificial Intelligence Society Textbook \n",
        "\n",
        "[Distance metrics and K-Nearest Neighbor (KNN)](https://medium.com/@luigi.fiori.lf0303/distance-metrics-and-k-nearest-neighbor-knn-1b840969c0f4)\n",
        "\n",
        "[Understanding Confusion Matrix](https://towardsdatascience.com/understanding-confusion-matrix-a9ad42dcfd62)"
      ]
    }
  ]
}